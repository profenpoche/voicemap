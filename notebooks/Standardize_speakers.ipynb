{
 "cells": [
  {
   "cell_type": "markdown",
   "metadata": {},
   "source": [
    "# Standardization\n",
    "Date : 31/07/2020\n",
    "\n",
    "Load all the datasets from the global csv. Select a fixed number of samples for all the speakers (ex : 60 sec => 3s x 20 samples). You will have to load the datasets with 'use_standardized=True' to use the standardization saved for each dataset (ex : TCOF_train.csv => TCOF_train_standardized.csv)"
   ]
  },
  {
   "cell_type": "markdown",
   "metadata": {},
   "source": [
    "Update 24/08/2020\n",
    "### Refactorized into voicemap.datasets.standardization\n",
    "Use the two cells below to standardize speakers manually"
   ]
  },
  {
   "cell_type": "code",
   "execution_count": 4,
   "metadata": {},
   "outputs": [],
   "source": [
    "from voicemap.datasets.standardization import *\n",
    "n_samples_min = 30\n",
    "n_seconds_min = 3\n",
    "datasets_to_standardize = \"LCT\"\n",
    "subset = \"train\""
   ]
  },
  {
   "cell_type": "code",
   "execution_count": 6,
   "metadata": {},
   "outputs": [
    {
     "name": "stdout",
     "output_type": "stream",
     "text": [
      "2199 speakers remain\n",
      "129567 samples remain in LibriSpeech\n",
      "0 samples remain in sitw\n",
      "100853 samples remain in CommonVoice\n",
      "21199 samples remain in TCOF\n",
      "Gathering 30 samples for the 2199 speakers...\n"
     ]
    },
    {
     "data": {
      "application/vnd.jupyter.widget-view+json": {
       "model_id": "663ebad5ca684206954dfe04794f7f5a",
       "version_major": 2,
       "version_minor": 0
      },
      "text/plain": [
       "HBox(children=(IntProgress(value=0, max=2199), HTML(value='')))"
      ]
     },
     "metadata": {},
     "output_type": "display_data"
    },
    {
     "name": "stdout",
     "output_type": "stream",
     "text": [
      "\n",
      "Finished. 65970 samples have been indexed.\n",
      "Saved to '/home/profenpoche/voicemap/data/LibriSpeech/LibriSpeech_train_standardized.csv'\n",
      "Saved to '/home/profenpoche/voicemap/data/CommonVoice/CommonVoice_train_standardized.csv'\n",
      "Saved to '/home/profenpoche/voicemap/data/TCOF/TCOF_train_standardized.csv'\n"
     ]
    }
   ],
   "source": [
    "standardize_speakers(subset, datasets_to_standardize, n_samples_min, n_seconds_min)"
   ]
  }
 ],
 "metadata": {
  "kernelspec": {
   "display_name": "Python 3",
   "language": "python",
   "name": "python3"
  },
  "language_info": {
   "codemirror_mode": {
    "name": "ipython",
    "version": 3
   },
   "file_extension": ".py",
   "mimetype": "text/x-python",
   "name": "python",
   "nbconvert_exporter": "python",
   "pygments_lexer": "ipython3",
   "version": "3.7.3"
  },
  "varInspector": {
   "cols": {
    "lenName": 16,
    "lenType": 16,
    "lenVar": 40
   },
   "kernels_config": {
    "python": {
     "delete_cmd_postfix": "",
     "delete_cmd_prefix": "del ",
     "library": "var_list.py",
     "varRefreshCmd": "print(var_dic_list())"
    },
    "r": {
     "delete_cmd_postfix": ") ",
     "delete_cmd_prefix": "rm(",
     "library": "var_list.r",
     "varRefreshCmd": "cat(var_dic_list()) "
    }
   },
   "types_to_exclude": [
    "module",
    "function",
    "builtin_function_or_method",
    "instance",
    "_Feature"
   ],
   "window_display": false
  }
 },
 "nbformat": 4,
 "nbformat_minor": 2
}
