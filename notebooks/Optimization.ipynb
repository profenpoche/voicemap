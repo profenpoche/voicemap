{
 "cells": [
  {
   "cell_type": "markdown",
   "metadata": {},
   "source": [
    "# Hyperparameters optimization with Optuna\n",
    "Date : 10/08/2020\n",
    "\n",
    "Study the hyperparameters and their best values"
   ]
  },
  {
   "cell_type": "code",
   "execution_count": 1,
   "metadata": {
    "cell_style": "center"
   },
   "outputs": [],
   "source": [
    "import optuna\n",
    "import neptune\n",
    "NEPTUNE_API_TOKEN=\"eyJhcGlfYWRkcmVzcyI6Imh0dHBzOi8vdWkubmVwdHVuZS5haSIsImFwaV91cmwiOiJodHRwczovL3VpLm5lcHR1bmUuYWkiLCJhcGlfa2V5IjoiMGRkNDk3ZWEtZjYyOC00ODYwLWFhZTQtZTY0YmI5YzA5NWZjIn0=\"\n",
    "import neptunecontrib.monitoring.optuna as opt_utils\n",
    "import plotly"
   ]
  },
  {
   "cell_type": "code",
   "execution_count": 2,
   "metadata": {
    "cell_style": "center"
   },
   "outputs": [],
   "source": [
    "# useful imports\n",
    "from IPython.display import Audio, display\n",
    "import pandas as pd\n",
    "import numpy as np\n",
    "\n",
    "# voicemap imports\n",
    "from config import PATH, DATA_PATH, LOG_PATH\n",
    "from voicemap.train import *\n",
    "from voicemap.datasets import datasets\n",
    "from voicemap.datasets import standardization"
   ]
  },
  {
   "cell_type": "code",
   "execution_count": 3,
   "metadata": {
    "cell_style": "center"
   },
   "outputs": [
    {
     "name": "stdout",
     "output_type": "stream",
     "text": [
      "{'model': 'resnet', 'model_path': None, 'dim': 1, 'lr': 0.01, 'weight_decay': 0.01, 'momentum': 0.9, 'epochs': 5, 'filters': 64, 'batch_size': 32, 'n_seconds': 3, 'downsampling': 4, 'use_standardized': False, 'spectrogram': True, 'precompute_spect': False, 'window_length': 0.02, 'window_hop': 0.01, 'device': 'cuda', 'n_t': 0, 'T': None, 'n_f': 0, 'F': None, 'train_datasets_letters': 'LT', 'val_datasets_letters': 'LT'}\n"
     ]
    }
   ],
   "source": [
    "t = TrainingArgs()\n",
    "t.lr = 0.01\n",
    "t.filters = 64\n",
    "t.batch_size = 1500 \n",
    "t.epochs = 5\n",
    "t.train_datasets_letters = \"LT\"\n",
    "t.val_datasets_letters = \"LT\"\n",
    "t.precompute_spect = False\n",
    "t.spectrogram = True\n",
    "t.use_standardized = False\n",
    "print(vars(t))"
   ]
  },
  {
   "cell_type": "code",
   "execution_count": 4,
   "metadata": {
    "cell_style": "center"
   },
   "outputs": [],
   "source": [
    "def objective(trial: optuna.trial.Trial):\n",
    "    if t.use_standardized:\n",
    "        n_samples_min = trial.suggest_int(\"n_samples_per_speaker\", 30, 100)\n",
    "        standardization.standardize_speakers(\"train\", t.train_datasets_letters, n_samples_min)\n",
    "    \n",
    "    # Suggest ranges over which the parameters will vary\n",
    "#     t.lr = trial.suggest_categorical(\"lr\", [0.1, 0.01])\n",
    "#     t.filters = trial.suggest_categorical(\"filters\", [64, 128])\n",
    "#     t.batch_size = trial.suggest_categorical(\"batch_size\", [128, 32, 1])\n",
    "#     t.epochs = trial.suggest_int(\"epochs\", 1, 5)\n",
    "\n",
    "    t.weight_decay = trial.suggest_loguniform(\"weight_decay\", 0.005, 0.95)\n",
    "    t.momentum = trial.suggest_uniform(\"momentum\", 0, 1)\n",
    "    #t.spectrogram = trial.suggest_int(\"spectrogram\", 0, 1)\n",
    "    t.window_length = trial.suggest_loguniform(\"window_length\", 0.01, 0.5)\n",
    "    t.window_hop = t.window_length / 2.0\n",
    "#     t.window_hop = trial.suggest_loguniform(\"window_hop\", 0.01, 0.1)\n",
    "#     if t.window_hop > t.window_length:\n",
    "#         t.window_hop = trial.suggest_loguniform(\"window_hop\", 0.01, 0.1)\n",
    "    # t.n_seconds = trial.suggest_uniform(\"n_seconds\", 2.5, 3) # must refactor spectrograms generation before pushing n_seconds above 3\n",
    "#     t.train_datasets_letters = trial.suggest_categorical(\"train_datasets_letters\", [\"LCT\", \"CT\"])\n",
    "    print(vars(t))\n",
    "    epochs_results = train(args=t, train_datasets_letters=t.train_datasets_letters, val_datasets_letters=t.val_datasets_letters, optunaTrial=trial, verbose=True)\n",
    "    print(epochs_results)\n",
    "    result = epochs_results[-1]['val_loss']\n",
    "    return result  "
   ]
  },
  {
   "cell_type": "code",
   "execution_count": null,
   "metadata": {
    "cell_style": "center",
    "scrolled": true
   },
   "outputs": [
    {
     "name": "stdout",
     "output_type": "stream",
     "text": [
      "https://ui.neptune.ai/team-pep/speaker-identification/e/SID-49\n"
     ]
    },
    {
     "name": "stderr",
     "output_type": "stream",
     "text": [
      "[I 2020-08-24 10:20:32,665] A new study created with name: study-04\n"
     ]
    },
    {
     "name": "stdout",
     "output_type": "stream",
     "text": [
      "{'model': 'resnet', 'model_path': None, 'dim': 1, 'lr': 0.01, 'weight_decay': 0.5586319695705432, 'momentum': 0.3204032283803132, 'epochs': 5, 'filters': 64, 'batch_size': 32, 'n_seconds': 3, 'downsampling': 4, 'use_standardized': False, 'spectrogram': True, 'precompute_spect': False, 'window_length': 0.027384632738151973, 'window_hop': 0.013692316369075986, 'device': 'cuda', 'n_t': 0, 'T': None, 'n_f': 0, 'F': None, 'train_datasets_letters': 'LT', 'val_datasets_letters': 'LT'}\n",
      "LibriSpeech train-clean-100 loaded from '/home/profenpoche/voicemap/data/train-clean-100.index.csv'\n",
      "LibriSpeech train-clean-360 loaded from '/home/profenpoche/voicemap/data/train-clean-360.index.csv'\n",
      "Finished indexing data. 129652 usable files found.\n",
      "In LibriSpeech ['train-clean-100', 'train-clean-360'] there are  1172  speakers\n",
      "TCOF loaded from '/home/profenpoche/voicemap/data/TCOF/TCOF_train.csv'\n",
      "In TCOF  ['train']  there are  652  speakers\n",
      "LibriSpeech dev-clean loaded from '/home/profenpoche/voicemap/data/dev-clean.index.csv'\n",
      "Finished indexing data. 2303 usable files found.\n",
      "In LibriSpeech ['dev-clean'] there are  40  speakers\n",
      "TCOF loaded from '/home/profenpoche/voicemap/data/TCOF/TCOF_dev.csv'\n",
      "In TCOF  ['dev']  there are  564  speakers\n",
      "<voicemap.datasets.librispeech.LibriSpeech object at 0x7f37bec514e0> wrapped into SpectrogramDataset with (window_length, hop) = (0.027384632738151973,0.013692316369075986)\n",
      "<voicemap.datasets.tcof.TCOF object at 0x7f37bebc7198> wrapped into SpectrogramDataset with (window_length, hop) = (0.027384632738151973,0.013692316369075986)\n",
      "<voicemap.datasets.librispeech.LibriSpeech object at 0x7f37afa90630> wrapped into SpectrogramDataset with (window_length, hop) = (0.027384632738151973,0.013692316369075986)\n",
      "<voicemap.datasets.tcof.TCOF object at 0x7f37bec51828> wrapped into SpectrogramDataset with (window_length, hop) = (0.027384632738151973,0.013692316369075986)\n",
      "Total no. speakers = 1824\n",
      "Begin training...\n"
     ]
    },
    {
     "name": "stderr",
     "output_type": "stream",
     "text": [
      "Epoch 1: 100%|█████████▉| 4308/4309 [20:03<00:00,  6.35it/s, loss=20.5, accuracy=0]"
     ]
    },
    {
     "data": {
      "application/vnd.jupyter.widget-view+json": {
       "model_id": "4bba89d9f67a49cc8319538554f226dc",
       "version_major": 2,
       "version_minor": 0
      },
      "text/plain": [
       "HBox(children=(IntProgress(value=0, max=250), HTML(value='')))"
      ]
     },
     "metadata": {},
     "output_type": "display_data"
    },
    {
     "name": "stdout",
     "output_type": "stream",
     "text": [
      "\n"
     ]
    },
    {
     "data": {
      "application/vnd.jupyter.widget-view+json": {
       "model_id": "4ebc268e9e6241958019de52f7ca1cdc",
       "version_major": 2,
       "version_minor": 0
      },
      "text/plain": [
       "HBox(children=(IntProgress(value=0, max=250), HTML(value='')))"
      ]
     },
     "metadata": {},
     "output_type": "display_data"
    },
    {
     "name": "stdout",
     "output_type": "stream",
     "text": [
      "\n",
      "\n",
      "Epoch 00002: val_loss improved from inf to 15790477.72258, saving model to /home/profenpoche/voicemap/models/model=resnet__dim=1__lr=0.01__weight_decay=0.559__momentum=0.320__filters=64__batch_size=32__n_seconds=3.000__use_standardized=False__spectrogram=True__n_t=0__T=None__n_f=0__F=None__datasets=LT__num_samples=153196__num_classes=1824.pt\n"
     ]
    },
    {
     "name": "stderr",
     "output_type": "stream",
     "text": [
      "Epoch 1: 100%|██████████| 4309/4309 [55:07<00:00, 631.08s/it, loss=20, accuracy=0, val_loss=1.58e+07, val_accuracy=0]\n",
      "Epoch 2: 100%|█████████▉| 4308/4309 [20:15<00:00,  7.75it/s, loss=21, accuracy=0]  "
     ]
    },
    {
     "data": {
      "application/vnd.jupyter.widget-view+json": {
       "model_id": "dad4656a4c424fb0b8e8f7f0e1a42736",
       "version_major": 2,
       "version_minor": 0
      },
      "text/plain": [
       "HBox(children=(IntProgress(value=0, max=250), HTML(value='')))"
      ]
     },
     "metadata": {},
     "output_type": "display_data"
    },
    {
     "name": "stdout",
     "output_type": "stream",
     "text": [
      "\n"
     ]
    },
    {
     "data": {
      "application/vnd.jupyter.widget-view+json": {
       "model_id": "46fb16091c494732b04b92c2c4239911",
       "version_major": 2,
       "version_minor": 0
      },
      "text/plain": [
       "HBox(children=(IntProgress(value=0, max=250), HTML(value='')))"
      ]
     },
     "metadata": {},
     "output_type": "display_data"
    },
    {
     "name": "stdout",
     "output_type": "stream",
     "text": [
      "\n",
      "\n",
      "Epoch 00003: val_loss improved from 15790477.72258 to 1007307.97487, saving model to /home/profenpoche/voicemap/models/model=resnet__dim=1__lr=0.01__weight_decay=0.559__momentum=0.320__filters=64__batch_size=32__n_seconds=3.000__use_standardized=False__spectrogram=True__n_t=0__T=None__n_f=0__F=None__datasets=LT__num_samples=153196__num_classes=1824.pt\n"
     ]
    },
    {
     "name": "stderr",
     "output_type": "stream",
     "text": [
      "Epoch 2: 100%|██████████| 4309/4309 [53:46<00:00, 603.50s/it, loss=19.9, accuracy=0, val_loss=1.01e+06, val_accuracy=0]\n",
      "Epoch 3:  62%|██████▏   | 2651/4309 [12:30<07:33,  3.65it/s, loss=19.4, accuracy=0]"
     ]
    }
   ],
   "source": [
    "# Setup neptune\n",
    "neptune.init('team-pep/speaker-identification', api_token=NEPTUNE_API_TOKEN)\n",
    "neptune_callback = opt_utils.NeptuneCallback(log_charts=True, log_study=True)\n",
    "neptune.create_experiment(name=\"weight_decay & momentum\", params=t.__dict__)\n",
    "# Setup optuna\n",
    "study = optuna.create_study(study_name='study-04', storage=f\"sqlite:///{LOG_PATH}/optimization.db\")\n",
    "\n",
    "# Optuna optimization\n",
    "study.optimize(objective, n_trials=5, callbacks=[neptune_callback])\n",
    "# Log into neptune\n",
    "neptune.log_metric(\"best_val_loss\", study.best_value)\n",
    "opt_utils.log_study_info(study)"
   ]
  },
  {
   "cell_type": "code",
   "execution_count": null,
   "metadata": {},
   "outputs": [],
   "source": [
    "study = optuna.load_study(study_name='study-01', storage=f\"sqlite:///{LOG_PATH}/optimization.db\")\n",
    "study.get_trials()"
   ]
  },
  {
   "cell_type": "code",
   "execution_count": null,
   "metadata": {},
   "outputs": [],
   "source": [
    "\n",
    "\n",
    "# log some metrics\n",
    "\n",
    "# for i in range(100):\n",
    "#     neptune.log_metric('loss', 0.95**i)\n",
    "\n",
    "# neptune.log_metric('AUC', 0.96)"
   ]
  }
 ],
 "metadata": {
  "kernelspec": {
   "display_name": "Python 3",
   "language": "python",
   "name": "python3"
  },
  "language_info": {
   "codemirror_mode": {
    "name": "ipython",
    "version": 3
   },
   "file_extension": ".py",
   "mimetype": "text/x-python",
   "name": "python",
   "nbconvert_exporter": "python",
   "pygments_lexer": "ipython3",
   "version": "3.7.3"
  },
  "notify_time": "5",
  "varInspector": {
   "cols": {
    "lenName": 16,
    "lenType": 16,
    "lenVar": 40
   },
   "kernels_config": {
    "python": {
     "delete_cmd_postfix": "",
     "delete_cmd_prefix": "del ",
     "library": "var_list.py",
     "varRefreshCmd": "print(var_dic_list())"
    },
    "r": {
     "delete_cmd_postfix": ") ",
     "delete_cmd_prefix": "rm(",
     "library": "var_list.r",
     "varRefreshCmd": "cat(var_dic_list()) "
    }
   },
   "types_to_exclude": [
    "module",
    "function",
    "builtin_function_or_method",
    "instance",
    "_Feature"
   ],
   "window_display": false
  }
 },
 "nbformat": 4,
 "nbformat_minor": 2
}
