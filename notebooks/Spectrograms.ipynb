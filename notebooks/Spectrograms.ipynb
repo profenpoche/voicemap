{
 "cells": [
  {
   "cell_type": "markdown",
   "metadata": {},
   "source": [
    "# Generate spectrograms\n",
    "Manually compute spectrograms that can then be loaded to train the model without calculate each spectrogram on the fly for each sample.\n",
    "\n",
    "It takes several hours to generate spectrograms for all the datasets. Use this functionality if you want to use the spectrograms for several trainings. For example if you are sure about the window_length and window_hop parameters you can generate them to make the trainings quicker then."
   ]
  },
  {
   "cell_type": "code",
   "execution_count": 1,
   "metadata": {},
   "outputs": [
    {
     "name": "stderr",
     "output_type": "stream",
     "text": [
      "/home/profenpoche/.local/lib/python3.7/site-packages/tqdm/autonotebook/__init__.py:14: TqdmExperimentalWarning: Using `tqdm.autonotebook.tqdm` in notebook mode. Use `tqdm.tqdm` instead to force console mode (e.g. in jupyter console)\n",
      "  \" (e.g. in jupyter console)\", TqdmExperimentalWarning)\n"
     ]
    }
   ],
   "source": [
    "from experiments.spectrograms import *\n",
    "from IPython.display import Audio, display\n",
    "from voicemap import train\n",
    "from voicemap.datasets import SpectrogramDataset, datasets"
   ]
  },
  {
   "cell_type": "code",
   "execution_count": 2,
   "metadata": {},
   "outputs": [
    {
     "data": {
      "text/plain": [
       "{'model': 'resnet',\n",
       " 'model_path': None,\n",
       " 'dim': 1,\n",
       " 'lr': 0.001,\n",
       " 'weight_decay': 0.01,\n",
       " 'momentum': 0.9,\n",
       " 'epochs': 30,\n",
       " 'filters': 64,\n",
       " 'batch_size': 32,\n",
       " 'n_seconds': 3,\n",
       " 'downsampling': 4,\n",
       " 'use_standardized': False,\n",
       " 'spectrogram': True,\n",
       " 'precompute_spect': True,\n",
       " 'window_length': 0.05,\n",
       " 'window_hop': 0.025,\n",
       " 'device': 'cuda',\n",
       " 'n_t': 0,\n",
       " 'T': None,\n",
       " 'n_f': 0,\n",
       " 'F': None}"
      ]
     },
     "execution_count": 2,
     "metadata": {},
     "output_type": "execute_result"
    }
   ],
   "source": [
    "t = train.TrainingArgs()\n",
    "t.window_length = 0.05\n",
    "t.window_hop = 0.025\n",
    "t.use_standardized = False\n",
    "t.batch_size = 32\n",
    "t.filters = 64\n",
    "vars(t)"
   ]
  },
  {
   "cell_type": "code",
   "execution_count": 3,
   "metadata": {},
   "outputs": [],
   "source": [
    "GENERATE_SPEC_FOR = {\n",
    "#     \"LibriSpeech\": ['dev-clean', 'train-clean-100', 'train-clean-360'],\n",
    "#     \"sitw\": ['dev', 'eval'],\n",
    "    \"common_voice-fr\": ['train', 'test'],\n",
    "#     \"TCOF\": ['train', 'dev']\n",
    "}"
   ]
  },
  {
   "cell_type": "code",
   "execution_count": 4,
   "metadata": {
    "scrolled": false
   },
   "outputs": [
    {
     "name": "stdout",
     "output_type": "stream",
     "text": [
      "CommonVoice train loaded from '/home/profenpoche/voicemap/data/CommonVoice/fr/train_transformed.csv'\n",
      "In CommonVoice  train  there are  1754  speakers\n",
      "<voicemap.datasets.common_voice.CommonVoice object at 0x7f69ef241ef0> wrapped into SpectrogramDataset with (window_length, hop) = (0.006666666666666667,0.0033333333333333335)\n"
     ]
    },
    {
     "name": "stderr",
     "output_type": "stream",
     "text": [
      "100%|██████████| 130602/130602 [8:23:34<00:00,  2.83it/s]  "
     ]
    },
    {
     "name": "stdout",
     "output_type": "stream",
     "text": [
      "Spec index saved to /home/profenpoche/voicemap/data/common_voice-fr.spec/train.csv\n"
     ]
    },
    {
     "name": "stderr",
     "output_type": "stream",
     "text": [
      "\n"
     ]
    },
    {
     "name": "stdout",
     "output_type": "stream",
     "text": [
      "CommonVoice test loaded from '/home/profenpoche/voicemap/data/CommonVoice/fr/test_transformed.csv'\n",
      "In CommonVoice  test  there are  4022  speakers\n",
      "<voicemap.datasets.common_voice.CommonVoice object at 0x7f69ef280be0> wrapped into SpectrogramDataset with (window_length, hop) = (0.006666666666666667,0.0033333333333333335)\n"
     ]
    },
    {
     "name": "stderr",
     "output_type": "stream",
     "text": [
      "100%|██████████| 14760/14760 [1:01:14<00:00, 10.48it/s]"
     ]
    },
    {
     "name": "stdout",
     "output_type": "stream",
     "text": [
      "Spec index saved to /home/profenpoche/voicemap/data/common_voice-fr.spec/test.csv\n"
     ]
    },
    {
     "name": "stderr",
     "output_type": "stream",
     "text": [
      "\n"
     ]
    }
   ],
   "source": [
    "compute_spectrograms(GENERATE_SPEC_FOR, remove_old_dir=True, use_standardized=False)"
   ]
  }
 ],
 "metadata": {
  "kernelspec": {
   "display_name": "Python 3",
   "language": "python",
   "name": "python3"
  },
  "language_info": {
   "codemirror_mode": {
    "name": "ipython",
    "version": 3
   },
   "file_extension": ".py",
   "mimetype": "text/x-python",
   "name": "python",
   "nbconvert_exporter": "python",
   "pygments_lexer": "ipython3",
   "version": "3.7.3"
  },
  "varInspector": {
   "cols": {
    "lenName": 16,
    "lenType": 16,
    "lenVar": 40
   },
   "kernels_config": {
    "python": {
     "delete_cmd_postfix": "",
     "delete_cmd_prefix": "del ",
     "library": "var_list.py",
     "varRefreshCmd": "print(var_dic_list())"
    },
    "r": {
     "delete_cmd_postfix": ") ",
     "delete_cmd_prefix": "rm(",
     "library": "var_list.r",
     "varRefreshCmd": "cat(var_dic_list()) "
    }
   },
   "types_to_exclude": [
    "module",
    "function",
    "builtin_function_or_method",
    "instance",
    "_Feature"
   ],
   "window_display": false
  }
 },
 "nbformat": 4,
 "nbformat_minor": 2
}
